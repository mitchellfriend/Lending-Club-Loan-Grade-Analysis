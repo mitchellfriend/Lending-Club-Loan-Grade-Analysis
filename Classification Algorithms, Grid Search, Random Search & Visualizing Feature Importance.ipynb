{
 "cells": [
  {
   "attachments": {},
   "cell_type": "markdown",
   "metadata": {},
   "source": [
    "<h1 align=\"center\"> Loan Classification with Ensemble Methods"
   ]
  },
  {
   "cell_type": "markdown",
   "metadata": {},
   "source": [
    "## Background\n",
    "\n",
    "Lending club, a peer-to-peer lending company, has been criticized for changing their lending pratices since going public in 2015. There is reason to believe that a person who in 2014 was classified as a C grade loan, will be classified as a B (or above) post ipo. Lending Club's loan and grading data has been made public and the accusation is investigated below"
   ]
  },
  {
   "cell_type": "markdown",
   "metadata": {},
   "source": [
    "## Program Info\n",
    "\n",
    "-  1) importing important modules\n",
    "-  2) Data Clensing & feature seleciton\n",
    "-  3) Ensemble Methods (RF, Bagginf, LogReg, AdaBoost, Grad. Boost, NB, XGBoost)\n",
    "-  4) XGBoost Random Search\n",
    "-  5) Graphing Important Features\n",
    "-  6) Post loan Analysis (Precision and Recall)\n",
    "-  7) Results"
   ]
  },
  {
   "cell_type": "code",
   "execution_count": 41,
   "metadata": {},
   "outputs": [],
   "source": [
    "#import modules\n",
    "import pandas as pd\n",
    "from sklearn.ensemble import RandomForestClassifier\n",
    "from sklearn.ensemble import VotingClassifier\n",
    "from sklearn.linear_model import LogisticRegression\n",
    "from sklearn.svm import SVC\n",
    "import numpy as np\n",
    "from sklearn.model_selection import train_test_split\n",
    "from sklearn.metrics import accuracy_score\n",
    "from sklearn.model_selection import cross_val_score\n",
    "from sklearn.model_selection import GridSearchCV\n",
    "from sklearn.metrics import confusion_matrix\n",
    "from sklearn.metrics import classification_report\n",
    "from sklearn.ensemble import  ExtraTreesClassifier\n",
    "\n",
    "#ignore Warnings\n",
    "import warnings\n",
    "warnings.filterwarnings(\"ignore\")\n",
    "\n",
    "#set show all columns\n",
    "pd.set_option(\"display.max_columns\",None)\n",
    "\n",
    "#plotting\n",
    "%matplotlib inline\n",
    "import matplotlib.pyplot as plt"
   ]
  },
  {
   "cell_type": "markdown",
   "metadata": {},
   "source": [
    "#  Data Cleansing"
   ]
  },
  {
   "cell_type": "code",
   "execution_count": 3,
   "metadata": {},
   "outputs": [],
   "source": [
    "#read in data\n",
    "df_reference = pd.read_csv('sample_data.csv', sep=',')\n",
    "\n",
    "df=df_reference\n",
    "\n",
    "#create binary response variable\n",
    "df[\"depAB\"] = np.where(np.isin(df['grade'], [\"A\", \"B\"]), 1 , 0)\n",
    "\n",
    "#make bins for employee length\n",
    "df[\"emp_length_new\"] = np.where(df['emp_length']==\"10+ years\", \"10+ years\",\n",
    "                                     np.where(np.isin(df['emp_length'], [\"1 year\",'2 years','3 years','4 years','5 years']), \"1-5 years\",\n",
    "                                              np.where(np.isin(df['emp_length'], ['6 years','7 years','8 years','9 years']), \"6-9 years\",\n",
    "                                                       np.where(np.isin(df['emp_length'], [\"< 1 year\"]), \"<1 year\", \"n/a\"))))\n",
    "df = df.drop('emp_length', axis = 1)\n"
   ]
  },
  {
   "cell_type": "markdown",
   "metadata": {},
   "source": [
    "# Feature Selection"
   ]
  },
  {
   "cell_type": "code",
   "execution_count": 4,
   "metadata": {},
   "outputs": [
    {
     "data": {
      "text/plain": [
       "Index(['grade', 'Year', 'acc_open_past_24mths_x', 'annual_inc_x', 'bc_util_x',\n",
       "       'dti_x', 'inq_last_6mths_x', 'mo_sin_old_rev_tl_op_x',\n",
       "       'mo_sin_rcnt_rev_tl_op_x', 'mo_sin_rcnt_tl_x', 'mort_acc_x',\n",
       "       'mths_since_recent_bc_x', 'num_accts_ever_120_pd_x', 'num_actv_bc_tl_x',\n",
       "       'num_il_tl_x', 'num_bc_sats_x', 'open_acc_x', 'pub_rec_bankruptcies_x',\n",
       "       'pub_rec_x', 'recoveries_x', 'tot_cur_bal_x', 'total_bc_limit_x',\n",
       "       'depAB', 'emp_length_new'],\n",
       "      dtype='object')"
      ]
     },
     "execution_count": 4,
     "metadata": {},
     "output_type": "execute_result"
    }
   ],
   "source": [
    "pre_df = df\n",
    "pre_df.columns"
   ]
  },
  {
   "cell_type": "code",
   "execution_count": 5,
   "metadata": {},
   "outputs": [],
   "source": [
    "#Feature selection\n",
    "\n",
    "pre_df = pre_df.loc[df_reference['Year'] == 2014]\n",
    "\n",
    "\n",
    "y=['depAB']\n",
    "X=['acc_open_past_24mths_x', 'annual_inc_x', 'bc_util_x',\n",
    "       'dti_x', 'inq_last_6mths_x', 'mo_sin_old_rev_tl_op_x',\n",
    "       'mo_sin_rcnt_rev_tl_op_x', 'mo_sin_rcnt_tl_x', 'mort_acc_x',\n",
    "       'mths_since_recent_bc_x', 'num_accts_ever_120_pd_x', 'num_actv_bc_tl_x',\n",
    "       'num_il_tl_x', 'num_bc_sats_x', 'open_acc_x', 'pub_rec_bankruptcies_x',\n",
    "       'pub_rec_x', 'recoveries_x', 'tot_cur_bal_x', 'total_bc_limit_x']\n"
   ]
  },
  {
   "cell_type": "code",
   "execution_count": 6,
   "metadata": {},
   "outputs": [],
   "source": [
    "#Train model\n",
    "X_train, X_test, y_train, y_test = train_test_split(pre_df[X], pre_df[y], random_state=42)\n"
   ]
  },
  {
   "cell_type": "markdown",
   "metadata": {},
   "source": [
    "#  Random Forest"
   ]
  },
  {
   "cell_type": "code",
   "execution_count": 7,
   "metadata": {},
   "outputs": [
    {
     "name": "stdout",
     "output_type": "stream",
     "text": [
      "0.703\n"
     ]
    }
   ],
   "source": [
    "#Run model\n",
    "#Grid Search\n",
    "rnd_clf = RandomForestClassifier(random_state=42, \n",
    "                                 n_jobs=-1,\n",
    "                                 max_depth=8,\n",
    "                                 n_estimators=500,\n",
    "                                 max_features=5, \n",
    "                                 criterion='gini')\n",
    "\n",
    "rnd_clf.fit(X_train, y_train)\n",
    "y_pred = rnd_clf.predict(X_test)\n",
    "print( accuracy_score(y_test, y_pred))"
   ]
  },
  {
   "cell_type": "code",
   "execution_count": 8,
   "metadata": {},
   "outputs": [
    {
     "name": "stdout",
     "output_type": "stream",
     "text": [
      "0.716\n"
     ]
    }
   ],
   "source": [
    "#random search\n",
    "rnd_clf = RandomForestClassifier(bootstrap=True,\n",
    "                                 max_depth=20,\n",
    "                                 max_features='sqrt',\n",
    "                                 min_samples_leaf=2,\n",
    "                                 min_samples_split=2,\n",
    "                                 n_estimators=1200)\n",
    "\n",
    "rnd_clf.fit(X_train, y_train)\n",
    "y_pred = rnd_clf.predict(X_test)\n",
    "print( accuracy_score(y_test, y_pred))"
   ]
  },
  {
   "cell_type": "markdown",
   "metadata": {},
   "source": [
    "## Bagging"
   ]
  },
  {
   "cell_type": "code",
   "execution_count": 9,
   "metadata": {},
   "outputs": [],
   "source": [
    "from sklearn.ensemble import BaggingClassifier\n",
    "from sklearn.neighbors import KNeighborsClassifier"
   ]
  },
  {
   "cell_type": "code",
   "execution_count": 10,
   "metadata": {},
   "outputs": [],
   "source": [
    "bagging_clf = BaggingClassifier(KNeighborsClassifier(n_jobs=-1),\n",
    "                             max_samples=0.5, max_features=5).fit(X_train, y_train)"
   ]
  },
  {
   "cell_type": "code",
   "execution_count": 11,
   "metadata": {},
   "outputs": [
    {
     "name": "stdout",
     "output_type": "stream",
     "text": [
      "0.581\n"
     ]
    }
   ],
   "source": [
    "y_pred = bagging_clf.predict(X_test)\n",
    "print( accuracy_score(y_test, y_pred))"
   ]
  },
  {
   "cell_type": "markdown",
   "metadata": {},
   "source": [
    "## Logistic Regression"
   ]
  },
  {
   "cell_type": "code",
   "execution_count": 12,
   "metadata": {},
   "outputs": [],
   "source": [
    "#Import modules\n",
    "from sklearn.linear_model import LogisticRegression"
   ]
  },
  {
   "cell_type": "code",
   "execution_count": 13,
   "metadata": {},
   "outputs": [],
   "source": [
    "#split test train data\n",
    "X_train, X_test, y_train, y_test = train_test_split(pre_df[X], pre_df[y])  "
   ]
  },
  {
   "cell_type": "code",
   "execution_count": 14,
   "metadata": {},
   "outputs": [],
   "source": [
    "#fit model\n",
    "log_clf = LogisticRegression(random_state=0, solver='lbfgs',\n",
    "                          multi_class='multinomial').fit(X_train, y_train)"
   ]
  },
  {
   "cell_type": "code",
   "execution_count": 15,
   "metadata": {},
   "outputs": [
    {
     "name": "stdout",
     "output_type": "stream",
     "text": [
      "0.649\n"
     ]
    }
   ],
   "source": [
    "#accuracy score\n",
    "y_pred = log_clf.predict(X_test)\n",
    "print( accuracy_score(y_test, y_pred))"
   ]
  },
  {
   "cell_type": "markdown",
   "metadata": {},
   "source": [
    "## AdaBoost"
   ]
  },
  {
   "cell_type": "code",
   "execution_count": 16,
   "metadata": {},
   "outputs": [],
   "source": [
    "from sklearn.ensemble import AdaBoostClassifier\n",
    "from sklearn.tree import DecisionTreeClassifier"
   ]
  },
  {
   "cell_type": "code",
   "execution_count": 17,
   "metadata": {},
   "outputs": [
    {
     "name": "stdout",
     "output_type": "stream",
     "text": [
      "0.678\n"
     ]
    }
   ],
   "source": [
    "ada_clf = AdaBoostClassifier(base_estimator=DecisionTreeClassifier(criterion='gini',\n",
    "                                                        max_depth=2,\n",
    "                                                        max_leaf_nodes=5,\n",
    "                                                        min_samples_leaf=10,\n",
    "                                                        min_samples_split=2),\n",
    "                                                       learning_rate=0.1,\n",
    "                                                       n_estimators=500,\n",
    "                                                       random_state=29)\n",
    "\n",
    "ada_clf.fit(X_train, y_train)\n",
    "\n",
    "y_pred = ada_clf.predict(X_test)\n",
    "print( accuracy_score(y_test, y_pred))"
   ]
  },
  {
   "cell_type": "markdown",
   "metadata": {},
   "source": [
    "## Gradient Boost"
   ]
  },
  {
   "cell_type": "code",
   "execution_count": 18,
   "metadata": {},
   "outputs": [],
   "source": [
    "from sklearn.ensemble import GradientBoostingClassifier"
   ]
  },
  {
   "cell_type": "code",
   "execution_count": 19,
   "metadata": {},
   "outputs": [
    {
     "data": {
      "text/plain": [
       "0.692"
      ]
     },
     "execution_count": 19,
     "metadata": {},
     "output_type": "execute_result"
    }
   ],
   "source": [
    "GB_clf = GradientBoostingClassifier(n_estimators=100, learning_rate=0.1,\n",
    "     max_depth=3, random_state=0).fit(X_train, y_train)\n",
    "GB_clf.score(X_test, y_test) "
   ]
  },
  {
   "cell_type": "markdown",
   "metadata": {},
   "source": [
    "## Naieve Bayes"
   ]
  },
  {
   "cell_type": "code",
   "execution_count": 20,
   "metadata": {},
   "outputs": [],
   "source": [
    "from sklearn.naive_bayes import GaussianNB"
   ]
  },
  {
   "cell_type": "code",
   "execution_count": 21,
   "metadata": {},
   "outputs": [
    {
     "name": "stdout",
     "output_type": "stream",
     "text": [
      "0.639\n"
     ]
    }
   ],
   "source": [
    "NB_clf = GaussianNB()\n",
    "NB_clf.fit(pre_df[X], pre_df[y])\n",
    "\n",
    "\n",
    "NB_clf.fit(X_train, y_train)\n",
    "\n",
    "y_pred = NB_clf.predict(X_test)\n",
    "print( accuracy_score(y_test, y_pred))"
   ]
  },
  {
   "cell_type": "markdown",
   "metadata": {},
   "source": [
    "## XGBoost"
   ]
  },
  {
   "cell_type": "code",
   "execution_count": 25,
   "metadata": {},
   "outputs": [],
   "source": [
    "#import module\n",
    "from xgboost import XGBClassifier"
   ]
  },
  {
   "cell_type": "code",
   "execution_count": 26,
   "metadata": {},
   "outputs": [
    {
     "name": "stdout",
     "output_type": "stream",
     "text": [
      "0.7\n"
     ]
    }
   ],
   "source": [
    "# fit model no training data\n",
    "XGB_clf = XGBClassifier(base_score=0.5, booster='gbtree', colsample_bylevel=1,\n",
    "       colsample_bytree=0.8, gamma=0.1, learning_rate=0.0005,\n",
    "       max_delta_step=0, max_depth=8, min_child_weight=15, missing=None,\n",
    "       n_estimators=10000, n_jobs=-1, nthread=None,\n",
    "       objective='binary:logistic', random_state=0, reg_alpha=0,\n",
    "       reg_lambda=1, scale_pos_weight=1, seed=None, silent=True,\n",
    "       subsample=0.5)\n",
    "XGB_clf.fit(X_train, y_train)\n",
    "\n",
    "y_pred = XGB_clf.predict(X_test)\n",
    "print( accuracy_score(y_test, y_pred))"
   ]
  },
  {
   "cell_type": "markdown",
   "metadata": {},
   "source": [
    "## Voting Classifier"
   ]
  },
  {
   "cell_type": "code",
   "execution_count": 27,
   "metadata": {},
   "outputs": [
    {
     "name": "stdout",
     "output_type": "stream",
     "text": [
      "RandomForestClassifier 0.69\n",
      "AdaBoostClassifier 0.678\n",
      "GradientBoostingClassifier 0.692\n",
      "XGBClassifier 0.7\n",
      "VotingClassifier 0.698\n"
     ]
    }
   ],
   "source": [
    "voting_clf = VotingClassifier(\n",
    "    estimators=[ ('rf', rnd_clf),                              \n",
    "               ('Ada', ada_clf),\n",
    "               ('GB', GB_clf),               \n",
    "               ('XGB', XGB_clf)],\n",
    "    n_jobs=-1,\n",
    "    voting='hard') #Predict the class with the highest class probability averaged over all individual classifiers\n",
    "\n",
    "voting_clf.fit(X_train, y_train)\n",
    "for clf in ( rnd_clf,\n",
    "            ada_clf,\n",
    "            GB_clf,\n",
    "            XGB_clf,\n",
    "            voting_clf):\n",
    "    clf.fit(X_train, y_train)\n",
    "    y_pred = clf.predict(X_test)\n",
    "    print(clf.__class__.__name__, accuracy_score(y_test, y_pred))"
   ]
  },
  {
   "cell_type": "markdown",
   "metadata": {},
   "source": [
    "<h2 align=\"center\"> Random Search"
   ]
  },
  {
   "cell_type": "code",
   "execution_count": 28,
   "metadata": {},
   "outputs": [],
   "source": [
    "#Record the time it takes to complete grid search\n",
    "def timer(start_time=None):\n",
    "    if not start_time:\n",
    "        start_time = datetime.now()\n",
    "        return start_time\n",
    "    elif start_time:\n",
    "        thour, temp_sec = divmod((datetime.now() - start_time).total_seconds(), 3600)\n",
    "        tmin, tsec = divmod(temp_sec, 60)\n",
    "        print('\\n Time taken: %i hours %i minutes and %s seconds.' % (thour, tmin, round(tsec, 2)))"
   ]
  },
  {
   "cell_type": "markdown",
   "metadata": {},
   "source": [
    "- **XGBoost**"
   ]
  },
  {
   "cell_type": "code",
   "execution_count": 36,
   "metadata": {},
   "outputs": [
    {
     "name": "stdout",
     "output_type": "stream",
     "text": [
      "Fitting 5 folds for each of 50 candidates, totalling 250 fits\n"
     ]
    },
    {
     "name": "stderr",
     "output_type": "stream",
     "text": [
      "[Parallel(n_jobs=-1)]: Using backend LokyBackend with 12 concurrent workers.\n",
      "[Parallel(n_jobs=-1)]: Done   8 tasks      | elapsed:    6.9s\n",
      "[Parallel(n_jobs=-1)]: Done 104 tasks      | elapsed:   27.6s\n",
      "[Parallel(n_jobs=-1)]: Done 250 out of 250 | elapsed:  1.3min finished\n"
     ]
    },
    {
     "name": "stdout",
     "output_type": "stream",
     "text": [
      "\n",
      " Time taken: 0 hours 1 minutes and 18.1 seconds.\n"
     ]
    }
   ],
   "source": [
    "import warnings\n",
    "warnings.filterwarnings('ignore')\n",
    "import numpy as np\n",
    "import pandas as pd\n",
    "from datetime import datetime\n",
    "from sklearn.model_selection import RandomizedSearchCV, GridSearchCV\n",
    "from sklearn.metrics import roc_auc_score\n",
    "from sklearn.model_selection import StratifiedKFold\n",
    "from xgboost import XGBClassifier\n",
    "\n",
    "params = {\n",
    "        'min_child_weight': [1, 5, 10, 15, 20],\n",
    "        'gamma': [0.1, 0.5, 1, 1.5, 2, 5],\n",
    "        'subsample': [0.4, 0.5, 0.6, 0.8, 1.0],\n",
    "        'colsample_bytree': [0.2, 0.3, 0.4, 0.5,0.6, 0.8, 1.0],\n",
    "        'max_depth': [3, 4, 5, 6, 7, 8, 9, 10],\n",
    "        'n_estimators': [200, 500, 1000]\n",
    "    \n",
    "        }\n",
    "xgb = XGBClassifier(learning_rate=0.005, objective='binary:logistic',\n",
    "                    silent=True, n_jobs=-1)\n",
    "\n",
    "folds = 5\n",
    "param_comb = 50\n",
    "\n",
    "skf = StratifiedKFold(n_splits=folds, shuffle = True, random_state = 1001)\n",
    "\n",
    "random_search = RandomizedSearchCV(xgb,\n",
    "                                   param_distributions=params,\n",
    "                                   n_iter=param_comb,\n",
    "                                   scoring='roc_auc',\n",
    "                                   n_jobs=-1,\n",
    "                                   cv=skf.split(X_train,y_train),\n",
    "                                   verbose=3,\n",
    "                                   random_state=42 )\n",
    "\n",
    "# Here we go\n",
    "start_time = timer(None) # timing starts from this point for \"start_time\" variable\n",
    "random_search.fit(X_train, y_train)\n",
    "timer(start_time) # timing ends here for \"start_time\" variable\n",
    "                    \n",
    "            "
   ]
  },
  {
   "cell_type": "code",
   "execution_count": 37,
   "metadata": {},
   "outputs": [
    {
     "name": "stdout",
     "output_type": "stream",
     "text": [
      "\n",
      " All results:\n",
      "{'mean_fit_time': array([ 9.38832946,  2.89294734,  2.41876807,  1.74961228,  2.69937158,\n",
      "        3.4120914 ,  1.34694667,  4.16621161,  3.87097287,  1.88393621,\n",
      "        0.92166047,  1.36072907,  1.82900529,  3.28898263,  1.26533041,\n",
      "        4.57176752,  1.89955754,  0.68733993,  7.03025184,  0.59036026,\n",
      "        0.76544709,  4.31147194,  0.80793457,  1.11690459, 11.86171541,\n",
      "        9.29946165,  2.5544271 ,  4.89705868,  7.81982932,  4.8145041 ,\n",
      "        7.05370607,  0.8985096 ,  1.82077665,  3.97321649,  1.59205155,\n",
      "        4.77037578,  1.76880784,  6.30478239,  1.62774515,  1.23721232,\n",
      "        3.24470773,  0.96540017,  2.04092164,  1.19518466,  5.30813923,\n",
      "        7.91378217,  2.80872159,  1.47778053,  3.98617768,  1.75232048]), 'std_fit_time': array([0.25831527, 0.20286118, 0.87208389, 0.09496957, 0.11151533,\n",
      "       0.04515022, 0.08568028, 0.16179121, 0.10427838, 0.08759095,\n",
      "       0.04073552, 0.02267129, 0.04779251, 0.02110824, 0.03422482,\n",
      "       0.08737398, 0.02538185, 0.05500861, 0.08776607, 0.01631014,\n",
      "       0.00987948, 0.13639828, 0.01391389, 0.03666483, 0.24208724,\n",
      "       0.14214876, 0.07212304, 0.19075699, 0.27985483, 0.18911527,\n",
      "       0.08034094, 0.03187226, 0.04969596, 0.08810541, 0.09546861,\n",
      "       0.13084683, 0.09819089, 0.07627274, 0.07419697, 0.05536194,\n",
      "       0.13237314, 0.04779185, 0.0361657 , 0.03273971, 0.22903294,\n",
      "       0.21636557, 0.12706224, 0.1034308 , 0.07879116, 0.09299648]), 'mean_score_time': array([0.04998879, 0.01562176, 0.03124261, 0.02499447, 0.03436661,\n",
      "       0.04061499, 0.03436685, 0.02499323, 0.05936246, 0.01562147,\n",
      "       0.01562147, 0.01739783, 0.02186995, 0.03436718, 0.01562157,\n",
      "       0.0468637 , 0.03436728, 0.01562157, 0.06029911, 0.00237589,\n",
      "       0.0124969 , 0.05623698, 0.00937009, 0.01874585, 0.20932727,\n",
      "       0.06560988, 0.03749151, 0.07498059, 0.05623703, 0.04061522,\n",
      "       0.04626765, 0.03385386, 0.02811904, 0.0312429 , 0.02187009,\n",
      "       0.03124304, 0.02811847, 0.04686356, 0.01874633, 0.01249695,\n",
      "       0.03903255, 0.01874571, 0.02187004, 0.02499418, 0.03749123,\n",
      "       0.05623875, 0.02499371, 0.0312428 , 0.02186928, 0.01562176]), 'std_score_time': array([1.16899394e-02, 9.88000665e-03, 5.22348936e-07, 1.24972343e-02,\n",
      "       1.82173169e-02, 7.65319546e-03, 1.16902070e-02, 7.65224176e-03,\n",
      "       1.82153625e-02, 6.46813391e-07, 9.87978046e-03, 3.55389122e-03,\n",
      "       1.24971628e-02, 6.24842645e-03, 9.88015744e-03, 5.56082906e-07,\n",
      "       1.53053883e-02, 6.32595976e-07, 6.95843680e-03, 4.75177765e-03,\n",
      "       6.24845031e-03, 1.24969482e-02, 7.65064704e-03, 6.24897482e-03,\n",
      "       5.64110161e-02, 6.24849798e-03, 1.24973297e-02, 3.33572413e-02,\n",
      "       7.65272824e-03, 1.24965429e-02, 9.95119148e-03, 2.23449089e-02,\n",
      "       6.24868873e-03, 9.22159176e-07, 7.65282557e-03, 9.87962968e-03,\n",
      "       6.24887945e-03, 1.71128476e-02, 6.24873638e-03, 6.24847412e-03,\n",
      "       6.98608895e-03, 1.16901305e-02, 7.65325387e-03, 1.87459946e-02,\n",
      "       7.65247517e-03, 7.65228059e-03, 7.65243632e-03, 9.87962968e-03,\n",
      "       7.65261148e-03, 3.23406696e-07]), 'param_subsample': masked_array(data=[1.0, 0.4, 0.4, 0.4, 0.4, 1.0, 1.0, 0.8, 0.4, 0.4, 0.5,\n",
      "                   0.6, 0.8, 0.8, 0.8, 0.6, 0.4, 1.0, 0.8, 0.8, 0.5, 0.5,\n",
      "                   0.4, 0.8, 1.0, 1.0, 0.5, 0.5, 0.6, 0.8, 0.5, 0.6, 1.0,\n",
      "                   0.8, 0.4, 0.6, 1.0, 0.8, 0.6, 0.6, 1.0, 0.5, 0.4, 0.8,\n",
      "                   0.6, 0.6, 0.6, 0.6, 0.4, 0.8],\n",
      "             mask=[False, False, False, False, False, False, False, False,\n",
      "                   False, False, False, False, False, False, False, False,\n",
      "                   False, False, False, False, False, False, False, False,\n",
      "                   False, False, False, False, False, False, False, False,\n",
      "                   False, False, False, False, False, False, False, False,\n",
      "                   False, False, False, False, False, False, False, False,\n",
      "                   False, False],\n",
      "       fill_value='?',\n",
      "            dtype=object), 'param_n_estimators': masked_array(data=[1000, 200, 500, 500, 500, 500, 200, 500, 1000, 500,\n",
      "                   200, 200, 500, 500, 200, 1000, 500, 200, 500, 200, 200,\n",
      "                   1000, 200, 200, 1000, 1000, 500, 1000, 1000, 500, 1000,\n",
      "                   200, 500, 500, 500, 1000, 500, 1000, 500, 200, 500,\n",
      "                   200, 500, 200, 1000, 1000, 500, 200, 1000, 500],\n",
      "             mask=[False, False, False, False, False, False, False, False,\n",
      "                   False, False, False, False, False, False, False, False,\n",
      "                   False, False, False, False, False, False, False, False,\n",
      "                   False, False, False, False, False, False, False, False,\n",
      "                   False, False, False, False, False, False, False, False,\n",
      "                   False, False, False, False, False, False, False, False,\n",
      "                   False, False],\n",
      "       fill_value='?',\n",
      "            dtype=object), 'param_min_child_weight': masked_array(data=[5, 15, 10, 20, 15, 10, 10, 20, 10, 15, 1, 20, 5, 10,\n",
      "                   15, 20, 10, 5, 1, 10, 20, 5, 15, 5, 1, 10, 5, 10, 10,\n",
      "                   1, 15, 15, 10, 20, 1, 10, 5, 10, 20, 20, 20, 10, 20,\n",
      "                   20, 5, 5, 15, 5, 15, 15],\n",
      "             mask=[False, False, False, False, False, False, False, False,\n",
      "                   False, False, False, False, False, False, False, False,\n",
      "                   False, False, False, False, False, False, False, False,\n",
      "                   False, False, False, False, False, False, False, False,\n",
      "                   False, False, False, False, False, False, False, False,\n",
      "                   False, False, False, False, False, False, False, False,\n",
      "                   False, False],\n",
      "       fill_value='?',\n",
      "            dtype=object), 'param_max_depth': masked_array(data=[6, 5, 6, 10, 10, 10, 9, 9, 6, 3, 6, 7, 3, 10, 8, 9, 9,\n",
      "                   5, 10, 3, 9, 6, 8, 5, 10, 10, 8, 6, 7, 6, 8, 7, 5, 9,\n",
      "                   3, 3, 4, 4, 3, 9, 10, 10, 6, 8, 4, 5, 8, 8, 7, 3],\n",
      "             mask=[False, False, False, False, False, False, False, False,\n",
      "                   False, False, False, False, False, False, False, False,\n",
      "                   False, False, False, False, False, False, False, False,\n",
      "                   False, False, False, False, False, False, False, False,\n",
      "                   False, False, False, False, False, False, False, False,\n",
      "                   False, False, False, False, False, False, False, False,\n",
      "                   False, False],\n",
      "       fill_value='?',\n",
      "            dtype=object), 'param_gamma': masked_array(data=[1.5, 1, 0.5, 1, 5, 0.5, 0.1, 0.1, 2, 2, 0.5, 0.1, 0.1,\n",
      "                   0.1, 1, 0.5, 1, 0.5, 1, 2, 1, 1, 2, 5, 2, 1, 2, 1, 0.5,\n",
      "                   2, 0.1, 2, 0.1, 0.5, 5, 5, 1.5, 2, 1, 5, 0.1, 5, 0.1,\n",
      "                   1, 0.1, 0.1, 5, 1, 5, 5],\n",
      "             mask=[False, False, False, False, False, False, False, False,\n",
      "                   False, False, False, False, False, False, False, False,\n",
      "                   False, False, False, False, False, False, False, False,\n",
      "                   False, False, False, False, False, False, False, False,\n",
      "                   False, False, False, False, False, False, False, False,\n",
      "                   False, False, False, False, False, False, False, False,\n",
      "                   False, False],\n",
      "       fill_value='?',\n",
      "            dtype=object), 'param_colsample_bytree': masked_array(data=[1.0, 0.6, 0.2, 0.3, 0.8, 0.5, 0.5, 1.0, 0.3, 0.6, 0.3,\n",
      "                   1.0, 0.6, 0.5, 0.6, 0.4, 0.2, 0.2, 1.0, 0.2, 0.3, 0.3,\n",
      "                   0.3, 0.6, 0.8, 0.8, 0.3, 0.4, 0.8, 1.0, 0.8, 0.2, 0.2,\n",
      "                   0.8, 0.2, 0.8, 0.2, 1.0, 0.2, 0.6, 0.5, 0.2, 0.3, 0.4,\n",
      "                   0.6, 1.0, 0.4, 0.4, 0.4, 0.4],\n",
      "             mask=[False, False, False, False, False, False, False, False,\n",
      "                   False, False, False, False, False, False, False, False,\n",
      "                   False, False, False, False, False, False, False, False,\n",
      "                   False, False, False, False, False, False, False, False,\n",
      "                   False, False, False, False, False, False, False, False,\n",
      "                   False, False, False, False, False, False, False, False,\n",
      "                   False, False],\n",
      "       fill_value='?',\n",
      "            dtype=object), 'params': [{'subsample': 1.0, 'n_estimators': 1000, 'min_child_weight': 5, 'max_depth': 6, 'gamma': 1.5, 'colsample_bytree': 1.0}, {'subsample': 0.4, 'n_estimators': 200, 'min_child_weight': 15, 'max_depth': 5, 'gamma': 1, 'colsample_bytree': 0.6}, {'subsample': 0.4, 'n_estimators': 500, 'min_child_weight': 10, 'max_depth': 6, 'gamma': 0.5, 'colsample_bytree': 0.2}, {'subsample': 0.4, 'n_estimators': 500, 'min_child_weight': 20, 'max_depth': 10, 'gamma': 1, 'colsample_bytree': 0.3}, {'subsample': 0.4, 'n_estimators': 500, 'min_child_weight': 15, 'max_depth': 10, 'gamma': 5, 'colsample_bytree': 0.8}, {'subsample': 1.0, 'n_estimators': 500, 'min_child_weight': 10, 'max_depth': 10, 'gamma': 0.5, 'colsample_bytree': 0.5}, {'subsample': 1.0, 'n_estimators': 200, 'min_child_weight': 10, 'max_depth': 9, 'gamma': 0.1, 'colsample_bytree': 0.5}, {'subsample': 0.8, 'n_estimators': 500, 'min_child_weight': 20, 'max_depth': 9, 'gamma': 0.1, 'colsample_bytree': 1.0}, {'subsample': 0.4, 'n_estimators': 1000, 'min_child_weight': 10, 'max_depth': 6, 'gamma': 2, 'colsample_bytree': 0.3}, {'subsample': 0.4, 'n_estimators': 500, 'min_child_weight': 15, 'max_depth': 3, 'gamma': 2, 'colsample_bytree': 0.6}, {'subsample': 0.5, 'n_estimators': 200, 'min_child_weight': 1, 'max_depth': 6, 'gamma': 0.5, 'colsample_bytree': 0.3}, {'subsample': 0.6, 'n_estimators': 200, 'min_child_weight': 20, 'max_depth': 7, 'gamma': 0.1, 'colsample_bytree': 1.0}, {'subsample': 0.8, 'n_estimators': 500, 'min_child_weight': 5, 'max_depth': 3, 'gamma': 0.1, 'colsample_bytree': 0.6}, {'subsample': 0.8, 'n_estimators': 500, 'min_child_weight': 10, 'max_depth': 10, 'gamma': 0.1, 'colsample_bytree': 0.5}, {'subsample': 0.8, 'n_estimators': 200, 'min_child_weight': 15, 'max_depth': 8, 'gamma': 1, 'colsample_bytree': 0.6}, {'subsample': 0.6, 'n_estimators': 1000, 'min_child_weight': 20, 'max_depth': 9, 'gamma': 0.5, 'colsample_bytree': 0.4}, {'subsample': 0.4, 'n_estimators': 500, 'min_child_weight': 10, 'max_depth': 9, 'gamma': 1, 'colsample_bytree': 0.2}, {'subsample': 1.0, 'n_estimators': 200, 'min_child_weight': 5, 'max_depth': 5, 'gamma': 0.5, 'colsample_bytree': 0.2}, {'subsample': 0.8, 'n_estimators': 500, 'min_child_weight': 1, 'max_depth': 10, 'gamma': 1, 'colsample_bytree': 1.0}, {'subsample': 0.8, 'n_estimators': 200, 'min_child_weight': 10, 'max_depth': 3, 'gamma': 2, 'colsample_bytree': 0.2}, {'subsample': 0.5, 'n_estimators': 200, 'min_child_weight': 20, 'max_depth': 9, 'gamma': 1, 'colsample_bytree': 0.3}, {'subsample': 0.5, 'n_estimators': 1000, 'min_child_weight': 5, 'max_depth': 6, 'gamma': 1, 'colsample_bytree': 0.3}, {'subsample': 0.4, 'n_estimators': 200, 'min_child_weight': 15, 'max_depth': 8, 'gamma': 2, 'colsample_bytree': 0.3}, {'subsample': 0.8, 'n_estimators': 200, 'min_child_weight': 5, 'max_depth': 5, 'gamma': 5, 'colsample_bytree': 0.6}, {'subsample': 1.0, 'n_estimators': 1000, 'min_child_weight': 1, 'max_depth': 10, 'gamma': 2, 'colsample_bytree': 0.8}, {'subsample': 1.0, 'n_estimators': 1000, 'min_child_weight': 10, 'max_depth': 10, 'gamma': 1, 'colsample_bytree': 0.8}, {'subsample': 0.5, 'n_estimators': 500, 'min_child_weight': 5, 'max_depth': 8, 'gamma': 2, 'colsample_bytree': 0.3}, {'subsample': 0.5, 'n_estimators': 1000, 'min_child_weight': 10, 'max_depth': 6, 'gamma': 1, 'colsample_bytree': 0.4}, {'subsample': 0.6, 'n_estimators': 1000, 'min_child_weight': 10, 'max_depth': 7, 'gamma': 0.5, 'colsample_bytree': 0.8}, {'subsample': 0.8, 'n_estimators': 500, 'min_child_weight': 1, 'max_depth': 6, 'gamma': 2, 'colsample_bytree': 1.0}, {'subsample': 0.5, 'n_estimators': 1000, 'min_child_weight': 15, 'max_depth': 8, 'gamma': 0.1, 'colsample_bytree': 0.8}, {'subsample': 0.6, 'n_estimators': 200, 'min_child_weight': 15, 'max_depth': 7, 'gamma': 2, 'colsample_bytree': 0.2}, {'subsample': 1.0, 'n_estimators': 500, 'min_child_weight': 10, 'max_depth': 5, 'gamma': 0.1, 'colsample_bytree': 0.2}, {'subsample': 0.8, 'n_estimators': 500, 'min_child_weight': 20, 'max_depth': 9, 'gamma': 0.5, 'colsample_bytree': 0.8}, {'subsample': 0.4, 'n_estimators': 500, 'min_child_weight': 1, 'max_depth': 3, 'gamma': 5, 'colsample_bytree': 0.2}, {'subsample': 0.6, 'n_estimators': 1000, 'min_child_weight': 10, 'max_depth': 3, 'gamma': 5, 'colsample_bytree': 0.8}, {'subsample': 1.0, 'n_estimators': 500, 'min_child_weight': 5, 'max_depth': 4, 'gamma': 1.5, 'colsample_bytree': 0.2}, {'subsample': 0.8, 'n_estimators': 1000, 'min_child_weight': 10, 'max_depth': 4, 'gamma': 2, 'colsample_bytree': 1.0}, {'subsample': 0.6, 'n_estimators': 500, 'min_child_weight': 20, 'max_depth': 3, 'gamma': 1, 'colsample_bytree': 0.2}, {'subsample': 0.6, 'n_estimators': 200, 'min_child_weight': 20, 'max_depth': 9, 'gamma': 5, 'colsample_bytree': 0.6}, {'subsample': 1.0, 'n_estimators': 500, 'min_child_weight': 20, 'max_depth': 10, 'gamma': 0.1, 'colsample_bytree': 0.5}, {'subsample': 0.5, 'n_estimators': 200, 'min_child_weight': 10, 'max_depth': 10, 'gamma': 5, 'colsample_bytree': 0.2}, {'subsample': 0.4, 'n_estimators': 500, 'min_child_weight': 20, 'max_depth': 6, 'gamma': 0.1, 'colsample_bytree': 0.3}, {'subsample': 0.8, 'n_estimators': 200, 'min_child_weight': 20, 'max_depth': 8, 'gamma': 1, 'colsample_bytree': 0.4}, {'subsample': 0.6, 'n_estimators': 1000, 'min_child_weight': 5, 'max_depth': 4, 'gamma': 0.1, 'colsample_bytree': 0.6}, {'subsample': 0.6, 'n_estimators': 1000, 'min_child_weight': 5, 'max_depth': 5, 'gamma': 0.1, 'colsample_bytree': 1.0}, {'subsample': 0.6, 'n_estimators': 500, 'min_child_weight': 15, 'max_depth': 8, 'gamma': 5, 'colsample_bytree': 0.4}, {'subsample': 0.6, 'n_estimators': 200, 'min_child_weight': 5, 'max_depth': 8, 'gamma': 1, 'colsample_bytree': 0.4}, {'subsample': 0.4, 'n_estimators': 1000, 'min_child_weight': 15, 'max_depth': 7, 'gamma': 5, 'colsample_bytree': 0.4}, {'subsample': 0.8, 'n_estimators': 500, 'min_child_weight': 15, 'max_depth': 3, 'gamma': 5, 'colsample_bytree': 0.4}], 'split0_test_score': array([0.7011651 , 0.69487923, 0.69017334, 0.69692526, 0.70390452,\n",
      "       0.69949417, 0.69734015, 0.70653026, 0.70367718, 0.70244956,\n",
      "       0.68900256, 0.69457232, 0.70412049, 0.70225632, 0.70201762,\n",
      "       0.7066553 , 0.68930946, 0.68827508, 0.70006252, 0.69061665,\n",
      "       0.69023018, 0.7030861 , 0.68674055, 0.69889173, 0.69892583,\n",
      "       0.70612106, 0.69244672, 0.7085422 , 0.7087468 , 0.70244956,\n",
      "       0.70961068, 0.68536516, 0.68918443, 0.70389315, 0.695368  ,\n",
      "       0.70890594, 0.69401535, 0.71058824, 0.6970503 , 0.69612958,\n",
      "       0.70172208, 0.68858198, 0.69755044, 0.69243535, 0.70826939,\n",
      "       0.70979255, 0.70050583, 0.69284456, 0.70717818, 0.70340438]), 'split1_test_score': array([0.71541915, 0.7255243 , 0.72994601, 0.72776357, 0.73048025,\n",
      "       0.71919295, 0.72106849, 0.71981813, 0.73477693, 0.72904803,\n",
      "       0.73107133, 0.71561239, 0.72551293, 0.7239443 , 0.72643365,\n",
      "       0.73251492, 0.73094629, 0.72330776, 0.70897414, 0.72256891,\n",
      "       0.72201194, 0.73981245, 0.72455811, 0.72283035, 0.69597045,\n",
      "       0.71064507, 0.73429952, 0.73392441, 0.73258312, 0.72151179,\n",
      "       0.72954817, 0.72381927, 0.72405797, 0.7217846 , 0.72830918,\n",
      "       0.73578858, 0.72671782, 0.73074169, 0.7237397 , 0.72186417,\n",
      "       0.7220574 , 0.72543336, 0.72742256, 0.72423984, 0.73949417,\n",
      "       0.73052572, 0.72759307, 0.72687127, 0.7333447 , 0.71931799]), 'split2_test_score': array([0.70813299, 0.72342143, 0.71269111, 0.71942029, 0.72895709,\n",
      "       0.71352089, 0.71477124, 0.72688832, 0.72050014, 0.72328502,\n",
      "       0.71472577, 0.7276499 , 0.71892015, 0.72176186, 0.72520602,\n",
      "       0.72381927, 0.71336175, 0.70249503, 0.7198977 , 0.70858767,\n",
      "       0.71710145, 0.71727195, 0.72093208, 0.72268258, 0.70380222,\n",
      "       0.70931515, 0.71373686, 0.72121625, 0.71924979, 0.72138676,\n",
      "       0.72717249, 0.71192953, 0.7085763 , 0.72536516, 0.71721512,\n",
      "       0.72419437, 0.70728048, 0.72228474, 0.71689685, 0.72352941,\n",
      "       0.7198636 , 0.71594203, 0.71942029, 0.72453538, 0.72265985,\n",
      "       0.72264848, 0.72630861, 0.72076158, 0.72721796, 0.72159136]), 'split3_test_score': array([0.71873828, 0.71556692, 0.70249503, 0.71077011, 0.72081841,\n",
      "       0.7123842 , 0.70922421, 0.7197613 , 0.71107701, 0.71747656,\n",
      "       0.70915601, 0.7140324 , 0.71842001, 0.71404376, 0.7123842 ,\n",
      "       0.7159193 , 0.70152884, 0.70420006, 0.72039784, 0.712316  ,\n",
      "       0.70876954, 0.71647627, 0.70625746, 0.71769253, 0.7121114 ,\n",
      "       0.71570332, 0.70992896, 0.71687411, 0.72052288, 0.7236374 ,\n",
      "       0.7181472 , 0.70053993, 0.70790566, 0.7160898 , 0.71164535,\n",
      "       0.7256607 , 0.70959932, 0.72637681, 0.70967889, 0.71169082,\n",
      "       0.71479398, 0.70742825, 0.71072464, 0.7102927 , 0.72325092,\n",
      "       0.72201194, 0.71488491, 0.71000853, 0.71726059, 0.71590793]), 'split4_test_score': array([0.70229042, 0.69436772, 0.70697357, 0.70659847, 0.70165388,\n",
      "       0.70477977, 0.70445013, 0.70363171, 0.71418016, 0.70157431,\n",
      "       0.70071043, 0.69315146, 0.69841432, 0.71095197, 0.69734584,\n",
      "       0.71170219, 0.70635976, 0.70130151, 0.70201762, 0.69587951,\n",
      "       0.69859619, 0.71439614, 0.70148338, 0.69674339, 0.70736005,\n",
      "       0.70832623, 0.71108838, 0.71593066, 0.71277067, 0.7030861 ,\n",
      "       0.71188406, 0.69921   , 0.7031202 , 0.70596192, 0.70440466,\n",
      "       0.71175902, 0.70183575, 0.71150895, 0.70067633, 0.69367434,\n",
      "       0.70791702, 0.69335607, 0.70664393, 0.69925547, 0.71316851,\n",
      "       0.71096334, 0.70595055, 0.69833475, 0.70841716, 0.6990736 ]), 'mean_test_score': array([0.70914919, 0.71075192, 0.70845581, 0.71229554, 0.71716283,\n",
      "       0.7098744 , 0.70937084, 0.71532594, 0.71684228, 0.7147667 ,\n",
      "       0.70893322, 0.70900369, 0.71307758, 0.71459165, 0.71267747,\n",
      "       0.71812219, 0.70830122, 0.70391589, 0.71026996, 0.70599375,\n",
      "       0.70734186, 0.71820858, 0.70799432, 0.71176812, 0.70363399,\n",
      "       0.71002217, 0.71230009, 0.71929753, 0.71877465, 0.71441432,\n",
      "       0.71927252, 0.70417278, 0.70656891, 0.71461893, 0.71138846,\n",
      "       0.72126172, 0.70788974, 0.72030009, 0.70960841, 0.70937766,\n",
      "       0.71327082, 0.70614834, 0.71235237, 0.71015175, 0.72136857,\n",
      "       0.71918841, 0.71504859, 0.70976414, 0.71868372, 0.71185905]), 'std_test_score': array([0.00697258, 0.01358167, 0.01305176, 0.01059293, 0.01221583,\n",
      "       0.00693016, 0.00818501, 0.00880522, 0.01047546, 0.01104185,\n",
      "       0.0140609 , 0.01323784, 0.01012478, 0.00780502, 0.01178961,\n",
      "       0.00913418, 0.01377483, 0.01122153, 0.00859348, 0.01149076,\n",
      "       0.01167729, 0.01194847, 0.01370311, 0.01155976, 0.00577364,\n",
      "       0.00320182, 0.01332131, 0.00837273, 0.00813095, 0.00954503,\n",
      "       0.00796499, 0.01294376, 0.01118747, 0.00847323, 0.01118709,\n",
      "       0.00981782, 0.01083457, 0.00801869, 0.0099026 , 0.01251912,\n",
      "       0.00755017, 0.0137236 , 0.01030921, 0.01294591, 0.01070119,\n",
      "       0.00780273, 0.01075588, 0.01288845, 0.01027212, 0.00896322]), 'rank_test_score': array([37, 28, 40, 24, 11, 32, 36, 13, 12, 15, 39, 38, 20, 17, 21, 10, 41,\n",
      "       49, 29, 47, 44,  9, 42, 26, 50, 31, 23,  4,  7, 18,  5, 48, 45, 16,\n",
      "       27,  2, 43,  3, 34, 35, 19, 46, 22, 30,  1,  6, 14, 33,  8, 25]), 'split0_train_score': array([0.9331877 , 0.77618073, 0.81445972, 0.77534811, 0.78428957,\n",
      "       0.91907573, 0.8872549 , 0.83229327, 0.83403204, 0.77041844,\n",
      "       0.88706841, 0.78599531, 0.79542484, 0.8963214 , 0.82637823,\n",
      "       0.82782964, 0.81760088, 0.8456813 , 0.99844061, 0.77138463,\n",
      "       0.77153488, 0.89955172, 0.7729291 , 0.82040566, 0.99887823,\n",
      "       0.95353936, 0.88528275, 0.86019004, 0.8916688 , 0.93128303,\n",
      "       0.84464265, 0.79698849, 0.8511374 , 0.83161338, 0.76817278,\n",
      "       0.79679099, 0.82659847, 0.84322677, 0.77007388, 0.77729327,\n",
      "       0.84808895, 0.77789642, 0.77551861, 0.8051769 , 0.85032893,\n",
      "       0.89111893, 0.79727373, 0.88793549, 0.78736857, 0.78067136]), 'split1_train_score': array([0.94184072, 0.77154625, 0.80841077, 0.77118393, 0.78098643,\n",
      "       0.9186136 , 0.88506607, 0.82880506, 0.83018826, 0.76634839,\n",
      "       0.88871874, 0.78097329, 0.7889848 , 0.8948501 , 0.82052003,\n",
      "       0.8258312 , 0.8116688 , 0.84874112, 0.99887539, 0.76622513,\n",
      "       0.76731493, 0.89976201, 0.76614947, 0.81851236, 0.99905158,\n",
      "       0.95341361, 0.88086672, 0.86054703, 0.89317278, 0.93579213,\n",
      "       0.84467533, 0.78795396, 0.85270816, 0.82683824, 0.76175867,\n",
      "       0.79453254, 0.82680378, 0.8468798 , 0.76393507, 0.77119565,\n",
      "       0.8432424 , 0.76900469, 0.77165388, 0.80120524, 0.85165175,\n",
      "       0.89349034, 0.78980321, 0.88865161, 0.78369281, 0.77384555]), 'split2_train_score': array([0.93510301, 0.77200199, 0.81149545, 0.77241475, 0.7839784 ,\n",
      "       0.92148657, 0.89165743, 0.83291134, 0.83411978, 0.76774084,\n",
      "       0.88783674, 0.78560173, 0.79412759, 0.89741049, 0.82625178,\n",
      "       0.82868642, 0.81605215, 0.84564507, 0.99854504, 0.77244778,\n",
      "       0.77306124, 0.8997272 , 0.77097151, 0.82312234, 0.99898906,\n",
      "       0.94857914, 0.88609477, 0.86187411, 0.89302785, 0.92817846,\n",
      "       0.8452863 , 0.79760692, 0.85080207, 0.83267477, 0.76858198,\n",
      "       0.79910912, 0.82463555, 0.84436061, 0.76954746, 0.77466468,\n",
      "       0.84997869, 0.77632282, 0.77322393, 0.80542839, 0.85099602,\n",
      "       0.89217675, 0.79711637, 0.88754973, 0.78755826, 0.77974922]), 'split3_train_score': array([0.93615018, 0.77230925, 0.8130719 , 0.77565644, 0.78490409,\n",
      "       0.91948707, 0.88198849, 0.83066638, 0.83416525, 0.76980747,\n",
      "       0.8849929 , 0.78385905, 0.79120915, 0.89522734, 0.82327437,\n",
      "       0.82954568, 0.81771455, 0.8478815 , 0.9986786 , 0.77133703,\n",
      "       0.77130897, 0.90001492, 0.77041169, 0.81750781, 0.99907999,\n",
      "       0.95094771, 0.88447357, 0.86105001, 0.89318698, 0.93206593,\n",
      "       0.84620844, 0.79420929, 0.85211921, 0.82927323, 0.76504334,\n",
      "       0.7973295 , 0.82596618, 0.84534101, 0.76890026, 0.77419579,\n",
      "       0.84497442, 0.77489059, 0.77612035, 0.80304206, 0.85233021,\n",
      "       0.89379511, 0.79425547, 0.88696505, 0.78729753, 0.77727195]), 'split4_train_score': array([0.92946931, 0.77644999, 0.81496519, 0.7754902 , 0.78634484,\n",
      "       0.92054277, 0.88867079, 0.83278204, 0.83523018, 0.77370702,\n",
      "       0.89047812, 0.7860834 , 0.79515203, 0.89859477, 0.8268528 ,\n",
      "       0.82975419, 0.81704248, 0.85032822, 0.99842214, 0.77050014,\n",
      "       0.77140736, 0.90322961, 0.77141233, 0.82477479, 0.99865516,\n",
      "       0.95071185, 0.88764066, 0.86330634, 0.89419224, 0.9326023 ,\n",
      "       0.8474524 , 0.79541347, 0.85475668, 0.83112816, 0.76779554,\n",
      "       0.80053993, 0.82820332, 0.84651819, 0.76885408, 0.77695865,\n",
      "       0.84798735, 0.77514066, 0.77604717, 0.80562376, 0.85310671,\n",
      "       0.89267796, 0.79621981, 0.89087454, 0.78884626, 0.77900327]), 'mean_train_score': array([0.93515018, 0.77369764, 0.81248061, 0.77401868, 0.78410067,\n",
      "       0.91984115, 0.88692754, 0.83149162, 0.8335471 , 0.76960443,\n",
      "       0.88781898, 0.78450256, 0.79297968, 0.89648082, 0.82465544,\n",
      "       0.82832943, 0.81601577, 0.84765544, 0.99859236, 0.77037894,\n",
      "       0.77092548, 0.90045709, 0.77037482, 0.82086459, 0.9989308 ,\n",
      "       0.95143833, 0.8848717 , 0.86139351, 0.89304973, 0.93198437,\n",
      "       0.84565303, 0.79443443, 0.8523047 , 0.83030556, 0.76627046,\n",
      "       0.79766041, 0.82644146, 0.84526527, 0.76826215, 0.77486161,\n",
      "       0.84685436, 0.77465104, 0.77451279, 0.80409527, 0.85168272,\n",
      "       0.89265182, 0.79493372, 0.88839528, 0.78695269, 0.77810827]), 'std_train_score': array([0.00404695, 0.00215279, 0.00236532, 0.00185598, 0.00175675,\n",
      "       0.00104094, 0.00326733, 0.00156346, 0.0017355 , 0.00251435,\n",
      "       0.00181279, 0.00193935, 0.00249437, 0.00138484, 0.00242296,\n",
      "       0.00142321, 0.00225167, 0.00180623, 0.0001684 , 0.00216694,\n",
      "       0.00191563, 0.00139413, 0.00227208, 0.00273491, 0.00015426,\n",
      "       0.00185793, 0.00225966, 0.0011111 , 0.00080582, 0.00244395,\n",
      "       0.00106372, 0.00345235, 0.00140213, 0.00205369, 0.00257488,\n",
      "       0.00205131, 0.00116166, 0.00135323, 0.00220978, 0.00220145,\n",
      "       0.00241453, 0.00301681, 0.00177678, 0.00171726, 0.00097491,\n",
      "       0.00095774, 0.00278121, 0.00135531, 0.00172459, 0.00240555])}\n",
      "\n",
      " Best estimator:\n",
      "XGBClassifier(base_score=0.5, booster='gbtree', colsample_bylevel=1,\n",
      "       colsample_bytree=0.6, gamma=0.1, learning_rate=0.005,\n",
      "       max_delta_step=0, max_depth=4, min_child_weight=5, missing=None,\n",
      "       n_estimators=1000, n_jobs=-1, nthread=None,\n",
      "       objective='binary:logistic', random_state=0, reg_alpha=0,\n",
      "       reg_lambda=1, scale_pos_weight=1, seed=None, silent=True,\n",
      "       subsample=0.6)\n",
      "\n",
      " Best normalized gini score for 5-fold search with 50 parameter combinations:\n",
      "0.442737141233305\n",
      "\n",
      " Best hyperparameters:\n",
      "{'subsample': 0.6, 'n_estimators': 1000, 'min_child_weight': 5, 'max_depth': 4, 'gamma': 0.1, 'colsample_bytree': 0.6}\n"
     ]
    }
   ],
   "source": [
    "print('\\n All results:')\n",
    "print(random_search.cv_results_)\n",
    "print('\\n Best estimator:')\n",
    "print(random_search.best_estimator_)\n",
    "print('\\n Best normalized gini score for %d-fold search with %d parameter combinations:' % (folds, param_comb))\n",
    "print(random_search.best_score_ * 2 - 1)\n",
    "print('\\n Best hyperparameters:')\n",
    "print(random_search.best_params_)\n",
    "results = pd.DataFrame(random_search.cv_results_)\n",
    "# results.to_csv('xgb-random-grid-search-results-01.csv', index=False)"
   ]
  },
  {
   "cell_type": "markdown",
   "metadata": {},
   "source": [
    "Best hyperparameters:\n",
    "{'subsample': 0.6, 'n_estimators': 1000, 'min_child_weight': 5, 'max_depth': 4, 'gamma': 0.1, 'colsample_bytree': 0.6}"
   ]
  },
  {
   "cell_type": "markdown",
   "metadata": {},
   "source": [
    "<h2 align=\"center\"> Graphing Important Features"
   ]
  },
  {
   "cell_type": "markdown",
   "metadata": {},
   "source": [
    "### XGBoost"
   ]
  },
  {
   "cell_type": "code",
   "execution_count": 42,
   "metadata": {},
   "outputs": [
    {
     "data": {
      "image/png": "[encoded data removed]",
      "text/plain": [
       "<Figure size 432x288 with 1 Axes>"
      ]
     },
     "metadata": {
      "needs_background": "light"
     },
     "output_type": "display_data"
    }
   ],
   "source": [
    "#important features Graph\n",
    "\n",
    "import seaborn as sns\n",
    "classifier = XGBClassifier(base_score=0.5, booster='gbtree', colsample_bylevel=1,\n",
    "       colsample_bytree=0.6, gamma=0.1, learning_rate=0.0005,\n",
    "       max_delta_step=0, max_depth=4, min_child_weight=5, missing=None,\n",
    "       n_estimators=1000, n_jobs=-1, nthread=None,\n",
    "       objective='binary:logistic', random_state=0, reg_alpha=0,\n",
    "       reg_lambda=1, scale_pos_weight=1, seed=None, silent=True,\n",
    "       subsample=0.6)\n",
    "\n",
    "classifier.fit(X_train, y_train)\n",
    "\n",
    "feature_imp = pd.DataFrame(data=classifier.feature_importances_, index=X_train.columns.values, columns=['values'])\n",
    "feature_imp.sort_values(['values'], ascending=False, inplace=True)\n",
    "feature_imp.reset_index(level=0, inplace=True)\n",
    "sns.barplot(x='index', y='values', data=feature_imp, palette='deep')\n",
    "plt.xticks(rotation=90)\n",
    "plt.show()"
   ]
  },
  {
   "cell_type": "markdown",
   "metadata": {},
   "source": [
    "### Ranodm Forest"
   ]
  },
  {
   "cell_type": "code",
   "execution_count": 43,
   "metadata": {},
   "outputs": [
    {
     "data": {
      "image/png": "[encoded data removed]",
      "text/plain": [
       "<Figure size 432x288 with 1 Axes>"
      ]
     },
     "metadata": {
      "needs_background": "light"
     },
     "output_type": "display_data"
    }
   ],
   "source": [
    "\n",
    "\n",
    "import seaborn as sns\n",
    "classifier = rnd_clf = RandomForestClassifier(bootstrap=True,\n",
    "                                 max_depth=20,\n",
    "                                 max_features='sqrt',\n",
    "                                 min_samples_leaf=2,\n",
    "                                 min_samples_split=2,\n",
    "                                 n_estimators=1200)#important features Graph\n",
    "classifier.fit(X_train, y_train)\n",
    "\n",
    "feature_imp = pd.DataFrame(data=classifier.feature_importances_, index=X_train.columns.values, columns=['values'])\n",
    "feature_imp.sort_values(['values'], ascending=False, inplace=True)\n",
    "feature_imp.reset_index(level=0, inplace=True)\n",
    "sns.barplot(x='index', y='values', data=feature_imp, palette='deep')\n",
    "plt.xticks(rotation=90)\n",
    "plt.show()\n"
   ]
  },
  {
   "cell_type": "markdown",
   "metadata": {},
   "source": [
    "<h2 align=\"center\"> Post Loan Analysis"
   ]
  },
  {
   "cell_type": "code",
   "execution_count": 44,
   "metadata": {},
   "outputs": [],
   "source": [
    "post_df = df.loc[df_reference['Year'] != 2014]\n",
    "\n",
    "\n",
    "y=['depAB']\n",
    "X=['acc_open_past_24mths_x', 'annual_inc_x', 'bc_util_x',\n",
    "       'dti_x', 'inq_last_6mths_x', 'mo_sin_old_rev_tl_op_x',\n",
    "       'mo_sin_rcnt_rev_tl_op_x', 'mo_sin_rcnt_tl_x', 'mort_acc_x',\n",
    "       'mths_since_recent_bc_x', 'num_accts_ever_120_pd_x', 'num_actv_bc_tl_x',\n",
    "       'num_il_tl_x', 'num_bc_sats_x', 'open_acc_x', 'pub_rec_bankruptcies_x',\n",
    "       'pub_rec_x', 'recoveries_x', 'tot_cur_bal_x', 'total_bc_limit_x']\n"
   ]
  },
  {
   "cell_type": "code",
   "execution_count": 45,
   "metadata": {},
   "outputs": [],
   "source": [
    "#Train test split\n",
    "X_train, X_test, y_train, y_test = train_test_split(post_df[X], post_df[y], random_state=42)"
   ]
  },
  {
   "cell_type": "code",
   "execution_count": 55,
   "metadata": {},
   "outputs": [
    {
     "name": "stdout",
     "output_type": "stream",
     "text": [
      "0.708\n"
     ]
    }
   ],
   "source": [
    "# fit model no 2014 data\n",
    "XGB_clf = XGBClassifier(base_score=0.5, booster='gbtree', colsample_bylevel=1,\n",
    "       colsample_bytree=0.6, gamma=0.1, learning_rate=0.0005,\n",
    "       max_delta_step=0, max_depth=4, min_child_weight=5, missing=None,\n",
    "       n_estimators=1000, n_jobs=-1, nthread=None,\n",
    "       objective='binary:logistic', random_state=0, reg_alpha=0,\n",
    "       reg_lambda=1, scale_pos_weight=1, seed=None, silent=True,\n",
    "       subsample=0.6)\n",
    "XGB_clf.fit(X_train, y_train)\n",
    "\n",
    "y_pred = XGB_clf.predict(X_test)\n",
    "print( accuracy_score(y_test, y_pred))"
   ]
  },
  {
   "cell_type": "code",
   "execution_count": 56,
   "metadata": {},
   "outputs": [
    {
     "name": "stdout",
     "output_type": "stream",
     "text": [
      "              precision    recall  f1-score   support\n",
      "\n",
      "           0       0.67      0.73      0.70       462\n",
      "           1       0.75      0.69      0.72       538\n",
      "\n",
      "   micro avg       0.71      0.71      0.71      1000\n",
      "   macro avg       0.71      0.71      0.71      1000\n",
      "weighted avg       0.71      0.71      0.71      1000\n",
      "\n"
     ]
    }
   ],
   "source": [
    "#correlation matrix\n",
    "print(classification_report(y_test, y_pred))"
   ]
  },
  {
   "cell_type": "code",
   "execution_count": 57,
   "metadata": {},
   "outputs": [
    {
     "name": "stdout",
     "output_type": "stream",
     "text": [
      "0.708\n"
     ]
    }
   ],
   "source": [
    "#2014 model on 2016/17 data\n",
    "#Train model\n",
    "X_train, X_test, y_train, y_test = train_test_split(pre_df[X], pre_df[y], random_state=42)\n",
    "XGB_clf = XGBClassifier(base_score=0.5, booster='gbtree', colsample_bylevel=1,\n",
    "       colsample_bytree=0.6, gamma=0.1, learning_rate=0.0005,\n",
    "       max_delta_step=0, max_depth=4, min_child_weight=5, missing=None,\n",
    "       n_estimators=1000, n_jobs=-1, nthread=None,\n",
    "       objective='binary:logistic', random_state=0, reg_alpha=0,\n",
    "       reg_lambda=1, scale_pos_weight=1, seed=None, silent=True,\n",
    "       subsample=0.6)\n",
    "XGB_clf.fit(X_train, y_train)\n",
    "\n",
    "y_pred = XGB_clf.predict(X_test)\n",
    "print( accuracy_score(y_test, y_pred))\n",
    "\n"
   ]
  },
  {
   "cell_type": "code",
   "execution_count": 58,
   "metadata": {},
   "outputs": [
    {
     "name": "stdout",
     "output_type": "stream",
     "text": [
      "0.636\n",
      "              precision    recall  f1-score   support\n",
      "\n",
      "           0       0.71      0.61      0.65       568\n",
      "           1       0.57      0.68      0.62       432\n",
      "\n",
      "   micro avg       0.64      0.64      0.64      1000\n",
      "   macro avg       0.64      0.64      0.64      1000\n",
      "weighted avg       0.65      0.64      0.64      1000\n",
      "\n"
     ]
    }
   ],
   "source": [
    "X_train, X_test, y_train, y_test = train_test_split(post_df[X], post_df[y], random_state=42)\n",
    "\n",
    "\n",
    "y_pred = XGB_clf.predict(X_test)\n",
    "print( accuracy_score(y_test, y_pred))\n",
    "print(classification_report(y_test, y_pred))"
   ]
  },
  {
   "cell_type": "markdown",
   "metadata": {},
   "source": [
    "**Interpretation of Results:** Since we see a large decrease in AB accuracy (1) and a small difference in not AB accuracy (0), we can say that the model trained on 2014 data is more conservative and misclassifies AB grade loans at a significantly higher rate on the 2016/17 data. This is a piece of evidence that supports the notion that lending club has changed their lending practices post IPO."
   ]
  }
 ],
 "metadata": {
  "kernelspec": {
   "display_name": "Python 3",
   "language": "python",
   "name": "python3"
  },
  "language_info": {
   "codemirror_mode": {
    "name": "ipython",
    "version": 3
   },
   "file_extension": ".py",
   "mimetype": "text/x-python",
   "name": "python",
   "nbconvert_exporter": "python",
   "pygments_lexer": "ipython3",
   "version": "3.6.8"
  }
 },
 "nbformat": 4,
 "nbformat_minor": 2
}
